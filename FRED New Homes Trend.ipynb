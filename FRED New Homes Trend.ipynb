{
 "cells": [
  {
   "cell_type": "code",
   "execution_count": 1,
   "metadata": {},
   "outputs": [],
   "source": [
    "seriesId = 'NHSDPCS' #FRED data series ID\n",
    "apiKey = \"c71c855489afb5327e992f3829276b54\" #personal key, need to get one per app"
   ]
  },
  {
   "cell_type": "code",
   "execution_count": 2,
   "metadata": {},
   "outputs": [],
   "source": [
    "#get FRED series data and return data frame\n",
    "import certifi\n",
    "import urllib3\n",
    "import json\n",
    "\n",
    "def getFREDSeriesData (seriesId, apiKey): \n",
    "    http = urllib3.PoolManager(cert_reqs='CERT_REQUIRED', ca_certs=certifi.where())\n",
    "    requestUrl = \"https://api.stlouisfed.org/fred/series/observations?series_id=\" + seriesId + \"&api_key=\" + apiKey + \"&file_type=json\"\n",
    "\n",
    "    payload = http.request('GET', requestUrl)\n",
    "    rawData = json.loads(payload.data.decode('utf-8'))\n",
    "    df = pd.json_normalize(rawData['observations'])\n",
    "\n",
    "    return df"
   ]
  },
  {
   "cell_type": "code",
   "execution_count": 3,
   "metadata": {},
   "outputs": [],
   "source": [
    "#clean up FRED data\n",
    "import pandas as pd\n",
    "\n",
    "def cleanFREDSeriesData (df):\n",
    "    df.index.name = \"observationId\"\n",
    "    df.drop(['realtime_start', 'realtime_end'],axis=1, inplace=True)\n",
    "    df['value'] = pd.to_numeric(df['value']) * 1000 #convert data from thousands\n",
    "    #df['date'] = pd.to_datetime(df['date'], format='%Y-%m-%d')\n",
    "    df.sort_values('date', inplace=True)\n",
    "\n",
    "    return df"
   ]
  },
  {
   "cell_type": "code",
   "execution_count": 4,
   "metadata": {},
   "outputs": [],
   "source": [
    "#date filter df\n",
    "import pandas as pd\n",
    "import datetime\n",
    "\n",
    "def dateFilterDF(df, dateColumn, startDate, endDate):\n",
    "    mask = (df[dateColumn] >= startDate) & (df[dateColumn] <= endDate)\n",
    "    df = df.loc[mask]\n",
    "    return df"
   ]
  },
  {
   "cell_type": "code",
   "execution_count": 5,
   "metadata": {},
   "outputs": [],
   "source": [
    "#detrend specified column of df, return df with \"detrendValue\" column\n",
    "from scipy.signal import detrend\n",
    "\n",
    "def detrendColumn(df, column):\n",
    "    df['detrendValue'] = detrend(df[column])\n",
    "    return df"
   ]
  },
  {
   "cell_type": "code",
   "execution_count": 6,
   "metadata": {},
   "outputs": [],
   "source": [
    "newHmSalesMaster = getFREDSeriesData(seriesId, apiKey) #get FRED new home sales\n",
    "newHmSalesMaster = cleanFREDSeriesData(newHmSalesMaster) #cleanup FRED new home sales"
   ]
  },
  {
   "cell_type": "code",
   "execution_count": 7,
   "metadata": {},
   "outputs": [],
   "source": [
    "import pandas as pd\n",
    "\n",
    "validationDataSet = dateFilterDF(newHmSalesMaster, 'date', '1999-01-01', '2010-12-01')\n",
    "validationDataSet = detrendColumn(validationDataSet, 'value')\n",
    "\n",
    "movingAvg = validationDataSet['detrendValue'].rolling(3).mean()"
   ]
  },
  {
   "cell_type": "code",
   "execution_count": 8,
   "metadata": {},
   "outputs": [
    {
     "output_type": "error",
     "ename": "ModuleNotFoundError",
     "evalue": "No module named 'statsmodels'",
     "traceback": [
      "\u001b[1;31m---------------------------------------------------------------------------\u001b[0m",
      "\u001b[1;31mModuleNotFoundError\u001b[0m                       Traceback (most recent call last)",
      "\u001b[1;32m<ipython-input-8-e942fb95afbb>\u001b[0m in \u001b[0;36m<module>\u001b[1;34m\u001b[0m\n\u001b[1;32m----> 1\u001b[1;33m \u001b[1;32mfrom\u001b[0m \u001b[0mstatsmodels\u001b[0m\u001b[1;33m.\u001b[0m\u001b[0mtsa\u001b[0m\u001b[1;33m.\u001b[0m\u001b[0marima_model\u001b[0m \u001b[1;32mimport\u001b[0m \u001b[0mARIMA\u001b[0m\u001b[1;33m\u001b[0m\u001b[1;33m\u001b[0m\u001b[0m\n\u001b[0m\u001b[0;32m      2\u001b[0m \u001b[1;32mfrom\u001b[0m \u001b[0mmatplotlib\u001b[0m \u001b[1;32mimport\u001b[0m \u001b[0mpyplot\u001b[0m\u001b[1;33m\u001b[0m\u001b[1;33m\u001b[0m\u001b[0m\n\u001b[0;32m      3\u001b[0m \u001b[1;33m\u001b[0m\u001b[0m\n\u001b[0;32m      4\u001b[0m \u001b[0mtrainingDataSet\u001b[0m \u001b[1;33m=\u001b[0m \u001b[0mdateFilterDF\u001b[0m\u001b[1;33m(\u001b[0m\u001b[0mnewHmSalesMaster\u001b[0m\u001b[1;33m,\u001b[0m \u001b[1;34m'date'\u001b[0m\u001b[1;33m,\u001b[0m \u001b[1;34m'2011-01-01'\u001b[0m\u001b[1;33m,\u001b[0m \u001b[1;34m'2015-12-01'\u001b[0m\u001b[1;33m)\u001b[0m\u001b[1;33m\u001b[0m\u001b[1;33m\u001b[0m\u001b[0m\n\u001b[0;32m      5\u001b[0m \u001b[0mtrainingDataSet\u001b[0m \u001b[1;33m=\u001b[0m \u001b[0mdetrendColumn\u001b[0m\u001b[1;33m(\u001b[0m\u001b[0mtrainingDataSet\u001b[0m\u001b[1;33m,\u001b[0m \u001b[1;34m'value'\u001b[0m\u001b[1;33m)\u001b[0m\u001b[1;33m\u001b[0m\u001b[1;33m\u001b[0m\u001b[0m\n",
      "\u001b[1;31mModuleNotFoundError\u001b[0m: No module named 'statsmodels'"
     ]
    }
   ],
   "source": [
    "from statsmodels.tsa.arima_model import ARIMA\n",
    "from matplotlib import pyplot\n",
    "\n",
    "trainingDataSet = dateFilterDF(newHmSalesMaster, 'date', '2011-01-01', '2015-12-01')\n",
    "trainingDataSet = detrendColumn(trainingDataSet, 'value')\n",
    "\n",
    "# fit model\n",
    "model = ARIMA(trainingDataSet, order=(5,1,0))\n",
    "model_fit = model.fit(disp=0)\n",
    "print(model_fit.summary())\n",
    "# plot residual errors\n",
    "residuals = DataFrame(model_fit.resid)\n",
    "residuals.plot()\n",
    "pyplot.show()\n",
    "residuals.plot(kind='kde')\n",
    "pyplot.show()\n",
    "print(residuals.describe())"
   ]
  },
  {
   "cell_type": "code",
   "execution_count": null,
   "metadata": {},
   "outputs": [],
   "source": [
    "import matplotlib.pyplot as plt\n",
    "\n",
    "plt.plot(newHmSales['detrendValue'])\n",
    "plt.plot(movingAvg, color='red')"
   ]
  }
 ],
 "metadata": {
  "kernelspec": {
   "display_name": "Python 3",
   "language": "python",
   "name": "python3"
  },
  "language_info": {
   "codemirror_mode": {
    "name": "ipython",
    "version": 3
   },
   "file_extension": ".py",
   "mimetype": "text/x-python",
   "name": "python",
   "nbconvert_exporter": "python",
   "pygments_lexer": "ipython3",
   "version": "3.9.0-final"
  }
 },
 "nbformat": 4,
 "nbformat_minor": 4
}