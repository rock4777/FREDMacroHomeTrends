{
 "cells": [
  {
   "cell_type": "code",
   "execution_count": 1,
   "metadata": {},
   "outputs": [],
   "source": [
    "seriesId = 'NHSDPCS' #FRED data series ID\n",
    "apiKey = \"c71c855489afb5327e992f3829276b54\" #personal key, need to get one per app"
   ]
  },
  {
   "cell_type": "code",
   "execution_count": 2,
   "metadata": {},
   "outputs": [],
   "source": [
    "#get FRED series data and return data frame\n",
    "import certifi\n",
    "import urllib3\n",
    "import json\n",
    "\n",
    "def getFREDSeriesData (seriesId, apiKey): \n",
    "    http = urllib3.PoolManager(cert_reqs='CERT_REQUIRED', ca_certs=certifi.where())\n",
    "    requestUrl = \"https://api.stlouisfed.org/fred/series/observations?series_id=\" + seriesId + \"&api_key=\" + apiKey + \"&file_type=json\"\n",
    "\n",
    "    payload = http.request('GET', requestUrl)\n",
    "    rawData = json.loads(payload.data.decode('utf-8'))\n",
    "    df = pd.json_normalize(rawData['observations'])\n",
    "\n",
    "    return df"
   ]
  },
  {
   "cell_type": "code",
   "execution_count": 3,
   "metadata": {},
   "outputs": [],
   "source": [
    "#clean up FRED data\n",
    "import pandas as pd\n",
    "\n",
    "def cleanFREDSeriesData (df):\n",
    "    df.index.name = \"observationId\"\n",
    "    df.drop(['realtime_start', 'realtime_end'],axis=1, inplace=True)\n",
    "    df['value'] = pd.to_numeric(df['value']) * 1000 #convert data from thousands\n",
    "    #df['date'] = pd.to_datetime(df['date'], format='%Y-%m-%d')\n",
    "    df.sort_values('date', inplace=True)\n",
    "\n",
    "    return df"
   ]
  },
  {
   "cell_type": "code",
   "execution_count": 4,
   "metadata": {},
   "outputs": [],
   "source": [
    "#date filter df\n",
    "import pandas as pd\n",
    "import datetime\n",
    "\n",
    "def dateFilterDF(df, dateColumn, startDate, endDate):\n",
    "    mask = (df[dateColumn] >= startDate) & (df[dateColumn] <= endDate)\n",
    "    df = df.loc[mask]\n",
    "    return df"
   ]
  },
  {
   "cell_type": "code",
   "execution_count": 5,
   "metadata": {},
   "outputs": [],
   "source": [
    "newHmSales = getFREDSeriesData(seriesId, apiKey) #get FRED new home sales\n",
    "\n",
    "newHmSales = cleanFREDSeriesData(newHmSales) #cleanup FRED new home sales\n",
    "\n",
    "newHmSales = dateFilterDF(newHmSales, 'date', '2018-01-01', '2020-10-01') #filter date range on df"
   ]
  },
  {
   "cell_type": "code",
   "execution_count": null,
   "metadata": {},
   "outputs": [],
   "source": []
  }
 ],
 "metadata": {
  "kernelspec": {
   "display_name": "Python 3",
   "language": "python",
   "name": "python3"
  },
  "language_info": {
   "codemirror_mode": {
    "name": "ipython",
    "version": 3
   },
   "file_extension": ".py",
   "mimetype": "text/x-python",
   "name": "python",
   "nbconvert_exporter": "python",
   "pygments_lexer": "ipython3",
   "version": "3.9.0-final"
  }
 },
 "nbformat": 4,
 "nbformat_minor": 4
}